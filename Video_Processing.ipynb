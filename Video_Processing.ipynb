{
 "cells": [
  {
   "cell_type": "markdown",
   "metadata": {},
   "source": [
    "### Import required Libraries"
   ]
  },
  {
   "cell_type": "code",
   "execution_count": 1,
   "metadata": {},
   "outputs": [],
   "source": [
    "import cv2\n",
    "import numpy"
   ]
  },
  {
   "cell_type": "markdown",
   "metadata": {},
   "source": [
    "### Proposed system for enhancing video sessions"
   ]
  },
  {
   "cell_type": "markdown",
   "metadata": {},
   "source": [
    "- Faculties will have option to capture video feed in RGB colored format (as usual) or in Grayscale (to save network bandwidth)\n",
    "\n",
    "- In case students receive RGB coloured video feed, they will have the following options:\n",
    "\n",
    "    - directly watch the incoming coloured video (as usual) if network connectivity is good\n",
    "    - watch the greyscale video simultaneously as the incoming video feed is converted to greyscale before rendering (save on network bandwidth)\n",
    "    \n",
    "- In case students receive grayscale video feed, they will have the following options:\n",
    "\n",
    "    - directly watch the incoming grayscale video feed (save on network bandwidth)\n",
    "    - watch the generated RGB coloured video from grayscale feed (save on network bandwidth at the expense of some computation)\n",
    " "
   ]
  },
  {
   "cell_type": "markdown",
   "metadata": {},
   "source": [
    "### Scenario 1: Converting RGB Coloured Video to Greyscale"
   ]
  },
  {
   "cell_type": "markdown",
   "metadata": {},
   "source": [
    "Create a VideoCapture object to capture video feed from webcam"
   ]
  },
  {
   "cell_type": "code",
   "execution_count": 2,
   "metadata": {},
   "outputs": [],
   "source": [
    "cap = cv2.VideoCapture(0)"
   ]
  },
  {
   "cell_type": "markdown",
   "metadata": {},
   "source": [
    "Create a VideoWriter object. FourCC is a 4-byte code used to specify the video codec. The list of available codes can be found in fourcc.org."
   ]
  },
  {
   "cell_type": "code",
   "execution_count": 3,
   "metadata": {},
   "outputs": [],
   "source": [
    "fourcc = cv2.VideoWriter_fourcc(*'DIVX')\n",
    "out = cv2.VideoWriter('output.avi', fourcc, 20.0, (640,480), 0)"
   ]
  },
  {
   "cell_type": "code",
   "execution_count": 4,
   "metadata": {},
   "outputs": [],
   "source": [
    "while True:\n",
    "    ret, frame = cap.read()\n",
    "    grayscale = cv2.cvtColor(frame, cv2.COLOR_BGR2GRAY)\n",
    "    \n",
    "    # Saving the grayscale output\n",
    "    out.write(grayscale)\n",
    "    \n",
    "    cv2.imshow('frame', frame)\n",
    "    cv2.imshow('gray', grayscale)\n",
    "    \n",
    "    # Configure pressing 'q' to finish capturing\n",
    "    if cv2.waitKey(1) & 0xFF == ord('q'):\n",
    "        break\n",
    "\n",
    "cap.release() #release the webcam resource\n",
    "out.release() #release the writer\n",
    "cv2.destroyAllWindows()"
   ]
  },
  {
   "cell_type": "markdown",
   "metadata": {},
   "source": [
    "Reference: https://opencv-python-tutroals.readthedocs.io/en/latest/py_tutorials/py_gui/py_video_display/py_video_display.html"
   ]
  },
  {
   "cell_type": "markdown",
   "metadata": {},
   "source": [
    "### Scenario 2: Extracting RGB coloured video from Grayscale video\n",
    "(First I have tried converting a grayscale image to a coloured image & then extend that for video feeds)"
   ]
  },
  {
   "cell_type": "markdown",
   "metadata": {},
   "source": [
    "#### Git clone & install DeOldify"
   ]
  },
  {
   "cell_type": "code",
   "execution_count": null,
   "metadata": {},
   "outputs": [],
   "source": [
    "!git clone https://github.com/jantic/DeOldify.git DeOldify"
   ]
  },
  {
   "cell_type": "code",
   "execution_count": 5,
   "metadata": {},
   "outputs": [
    {
     "name": "stdout",
     "output_type": "stream",
     "text": [
      "C:\\Users\\senab\\JupyterNotebooks\\ProjectFiles\\DeOldify\n"
     ]
    }
   ],
   "source": [
    "cd DeOldify"
   ]
  },
  {
   "cell_type": "markdown",
   "metadata": {},
   "source": [
    "#### Setup"
   ]
  },
  {
   "cell_type": "code",
   "execution_count": 6,
   "metadata": {},
   "outputs": [],
   "source": [
    "from deoldify import device\n",
    "from deoldify.device_id import DeviceId\n",
    "#choices:  CPU, GPU0...\n",
    "device.set(device=DeviceId.GPU0)\n",
    "\n",
    "import torch\n",
    "\n",
    "if not torch.cuda.is_available():\n",
    "    print('GPU not available.')"
   ]
  },
  {
   "cell_type": "code",
   "execution_count": null,
   "metadata": {
    "scrolled": false
   },
   "outputs": [],
   "source": [
    "!pip install -r colab_requirements.txt"
   ]
  },
  {
   "cell_type": "code",
   "execution_count": null,
   "metadata": {
    "scrolled": false
   },
   "outputs": [],
   "source": [
    "import fastai\n",
    "from deoldify.visualize import *\n",
    "import warnings\n",
    "warnings.filterwarnings(\"ignore\", category=UserWarning, message=\".*?Your .*? set is empty.*?\")"
   ]
  },
  {
   "cell_type": "code",
   "execution_count": null,
   "metadata": {},
   "outputs": [],
   "source": [
    "!mkdir models\n",
    "!wget https://www.dropbox.com/s/zkehq1uwahhbc2o/ColorizeArtistic_gen.pth?dl=0 -O ./models/ColorizeArtistic_gen.pth"
   ]
  },
  {
   "cell_type": "code",
   "execution_count": null,
   "metadata": {},
   "outputs": [],
   "source": [
    "colorizer = get_image_colorizer(artistic=True)"
   ]
  },
  {
   "cell_type": "markdown",
   "metadata": {},
   "source": [
    "### Colorize"
   ]
  },
  {
   "cell_type": "code",
   "execution_count": null,
   "metadata": {},
   "outputs": [],
   "source": [
    "# Specify url for the grayscale image\n",
    "source_url = 'https://github.com/Abhishek-Sengupta/Optimizing-Video-Sessions-for-Poor-Connectivity-issues/blob/master/Grayscale_image.jpg' #@param {type:\"string\"}\n",
    "render_factor = 35  #@param {type: \"slider\", min: 7, max: 40}\n",
    "watermarked = True #@param {type:\"boolean\"}\n",
    "\n",
    "if source_url is not None and source_url !='':\n",
    "    image_path = colorizer.plot_transformed_image_from_url(url=source_url, render_factor=render_factor, compare=True, watermarked=watermarked)\n",
    "    show_image_in_notebook(image_path)\n",
    "else:\n",
    "    print('Provide an image url and try again.')"
   ]
  },
  {
   "cell_type": "code",
   "execution_count": null,
   "metadata": {},
   "outputs": [],
   "source": [
    "for i in range(10,40,2):\n",
    "    colorizer.plot_transformed_image('test_images/image.png', render_factor=i, display_render_factor=True, figsize=(8,8))"
   ]
  },
  {
   "cell_type": "markdown",
   "metadata": {},
   "source": [
    "Reference: https://github.com/jantic/DeOldify.git"
   ]
  },
  {
   "cell_type": "code",
   "execution_count": null,
   "metadata": {},
   "outputs": [],
   "source": [
    "# For converting any image to grayscale for evaluating performance of deoldify (OPTIONAL)\n",
    "# Load our input image \n",
    "image = cv2.imread(#path) #Input the path\n",
    "cv2.imshow('Original', image) \n",
    "cv2.waitKey() \n",
    "  \n",
    "# We use cvtColor, to convert to grayscale \n",
    "gray_image = cv2.cvtColor(image, cv2.COLOR_BGR2GRAY) \n",
    "cv2.imwrite('Grayscale_image.jpg', gray_image) \n",
    "cv2.imshow('Grayscale', gray_image) \n",
    "cv2.waitKey(0)   \n",
    "  \n",
    "# window shown waits for any key pressing event \n",
    "cv2.destroyAllWindows() "
   ]
  }
 ],
 "metadata": {
  "kernelspec": {
   "display_name": "Python 3",
   "language": "python",
   "name": "python3"
  },
  "language_info": {
   "codemirror_mode": {
    "name": "ipython",
    "version": 3
   },
   "file_extension": ".py",
   "mimetype": "text/x-python",
   "name": "python",
   "nbconvert_exporter": "python",
   "pygments_lexer": "ipython3",
   "version": "3.6.10"
  }
 },
 "nbformat": 4,
 "nbformat_minor": 4
}
